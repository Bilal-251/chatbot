{
 "cells": [
  {
   "cell_type": "code",
   "execution_count": 1,
   "id": "f353a27b-81bd-4950-bd4a-0e7eaeb60e47",
   "metadata": {},
   "outputs": [],
   "source": [
    "\n",
    "\n",
    "from selenium import webdriver\n",
    "from selenium.webdriver.chrome.options import Options\n",
    "from selenium.webdriver.common.keys import Keys\n",
    "from selenium.webdriver.common.by import By\n",
    "from selenium.common.exceptions import NoSuchElementException\n",
    "\n",
    "from selenium import webdriver\n",
    "from selenium.webdriver.chrome.service import Service as ChromeService\n",
    "from webdriver_manager.chrome import ChromeDriverManager\n",
    "from selenium.webdriver.common.action_chains import ActionChains\n",
    "import time\n",
    "import pandas as pd\n",
    "import numpy as np\n",
    "from selenium.common.exceptions import NoSuchElementException"
   ]
  },
  {
   "cell_type": "code",
   "execution_count": 2,
   "id": "89631cbf-90d7-4349-8885-ae37aaf0899d",
   "metadata": {},
   "outputs": [],
   "source": [
    "driver = webdriver.Chrome(service=ChromeService(ChromeDriverManager().install()))\n",
    "url = 'https://www.daraz.pk/'\n",
    "driver.get(url)"
   ]
  },
  {
   "cell_type": "code",
   "execution_count": 3,
   "id": "59b6a40b-2ce4-44f3-86e8-a23fb6e429b2",
   "metadata": {},
   "outputs": [],
   "source": [
    "search_bar = driver.find_element(By.XPATH, '/html/body/div[1]/div/div/div[1]/div/div/div[2]/div/div[2]/form/div/div[1]/input[1]')\n",
    "search_bar.send_keys('Mobile phones' + Keys.RETURN)"
   ]
  },
  {
   "cell_type": "code",
   "execution_count": 24,
   "id": "1cb6e23a-a0ed-49b6-8d37-10854812856c",
   "metadata": {},
   "outputs": [],
   "source": [
    "def exceptions_handling(element, path):\n",
    "    try:\n",
    "        return element.find_element(By.XPATH, path).text\n",
    "    except:\n",
    "        return np.nan"
   ]
  },
  {
   "cell_type": "code",
   "execution_count": 25,
   "id": "95663b80-e454-42a3-839c-9d9968e4c137",
   "metadata": {},
   "outputs": [],
   "source": [
    "def link_exception(element):\n",
    "    try:\n",
    "        return element.find_element(By.XPATH, './/a').get_attribute(\"href\")\n",
    "    except:\n",
    "        return element.get_attribute(\"href\")"
   ]
  },
  {
   "cell_type": "code",
   "execution_count": 26,
   "id": "ef39d210-ab1d-420d-af43-3b9d04602f18",
   "metadata": {},
   "outputs": [],
   "source": [
    "product_title = []\n",
    "rating = []\n",
    "shipping = []\n",
    "mall_status = []\n",
    "seller_rating = []\n",
    "ship_timeScore = []\n",
    "price = []\n",
    "\n",
    "all_urls = []"
   ]
  },
  {
   "cell_type": "code",
   "execution_count": 27,
   "id": "fc582acd-4801-47b4-947c-a23b44b47723",
   "metadata": {},
   "outputs": [],
   "source": [
    "for i in range(5):\n",
    "    grid=driver.find_element(By.XPATH,\"/html/body/div[3]/div/div[3]/div/div/div[1]/div[2]\")\n",
    "    cards = grid.find_elements(By.CLASS_NAME, 'gridItem--Yd0sa')\n",
    "    product_urls = [link_exception(card) for card in cards]\n",
    "    all_urls.extend(product_urls)\n",
    "    next_page = driver.find_element(By.XPATH, '/html/body/div[3]/div/div[3]/div/div/div[1]/div[3]/div/div/ul/li[9]/a')\n",
    "    next_page.click()\n",
    "    time.sleep(2)\n",
    "    driver.execute_script(\"window.scrollBy(0, window.innerHeight)\")        # for scrolling\n",
    "    time.sleep(2) "
   ]
  },
  {
   "cell_type": "code",
   "execution_count": 28,
   "id": "8134ab92-b966-441f-9a19-be14519e3804",
   "metadata": {},
   "outputs": [],
   "source": [
    "temp = all_urls\n",
    "product_title = []\n",
    "rating = []\n",
    "shipping = []\n",
    "seller_rating = []\n",
    "ship_timeScore = []\n",
    "price = []"
   ]
  },
  {
   "cell_type": "code",
   "execution_count": 29,
   "id": "eef75312-1d79-4101-ba13-b5c9cd7e0b18",
   "metadata": {},
   "outputs": [],
   "source": [
    "i = 0\n",
    "for card_url in all_urls:\n",
    "    driver.get(card_url)\n",
    "    driver.execute_script(\"window.scrollBy(0, window.innerHeight)\")\n",
    "    time.sleep(5)\n",
    "    product_title.append(exceptions_handling(driver, '/html/body/div[4]/div/div[3]/div[2]/div/div[1]/div[3]/div/div/span'))\n",
    "    rating.append(exceptions_handling(driver, '/html/body/div[4]/div/div[9]/div[1]/div[1]/div/div/div/div[2]/div[1]/div[1]/div[1]/span[1]'))\n",
    "    shipping.append(exceptions_handling(driver, '/html/body/div[4]/div/div[3]/div[2]/div/div[2]/div[1]/div/div/div[3]/div/div[1]/div/div[1]/div[1]/div[1]/span[1]'))\n",
    "    price.append(exceptions_handling(driver, '/html/body/div[4]/div/div[3]/div[2]/div/div[1]/div[7]/div/div/span'))\n",
    "    seller_rating.append(driver.find_element(By.XPATH, '/html/body/div[4]/div/div[3]/div[2]/div/div[2]/div[5]/div/div[2]/div[1]/div[2]').text.replace('%', ''))\n",
    "    ship_timeScore.append(exceptions_handling(driver, '/html/body/div[4]/div/div[3]/div[2]/div/div[2]/div[5]/div/div[2]/div[2]/div[2]').replace('%',''))"
   ]
  },
  {
   "cell_type": "code",
   "execution_count": 30,
   "id": "25a05cc2-a239-4f0f-bffe-bbd50577c8d2",
   "metadata": {},
   "outputs": [],
   "source": [
    "data = {\n",
    "    'Product Title': product_title,\n",
    "    'Price (Rs)': price,\n",
    "    'Product Rating': rating,\n",
    "    'Shipping': shipping,\n",
    "    'Seller Rating': seller_rating,\n",
    "    'Ship on Time Score': ship_timeScore\n",
    "}"
   ]
  },
  {
   "cell_type": "code",
   "execution_count": 31,
   "id": "fec9877b-ed40-45be-8d6a-80d05ed1ece5",
   "metadata": {},
   "outputs": [
    {
     "data": {
      "text/html": [
       "<div>\n",
       "<style scoped>\n",
       "    .dataframe tbody tr th:only-of-type {\n",
       "        vertical-align: middle;\n",
       "    }\n",
       "\n",
       "    .dataframe tbody tr th {\n",
       "        vertical-align: top;\n",
       "    }\n",
       "\n",
       "    .dataframe thead th {\n",
       "        text-align: right;\n",
       "    }\n",
       "</style>\n",
       "<table border=\"1\" class=\"dataframe\">\n",
       "  <thead>\n",
       "    <tr style=\"text-align: right;\">\n",
       "      <th></th>\n",
       "      <th>Product Title</th>\n",
       "      <th>Price (Rs)</th>\n",
       "      <th>Product Rating</th>\n",
       "      <th>Shipping</th>\n",
       "      <th>Seller Rating</th>\n",
       "      <th>Ship on Time Score</th>\n",
       "    </tr>\n",
       "  </thead>\n",
       "  <tbody>\n",
       "    <tr>\n",
       "      <th>0</th>\n",
       "      <td>Like New Phones - Used Apple iPhone X - Silver...</td>\n",
       "      <td>Rs. 106,999</td>\n",
       "      <td>5.0</td>\n",
       "      <td>Standard Delivery</td>\n",
       "      <td>92</td>\n",
       "      <td>100</td>\n",
       "    </tr>\n",
       "    <tr>\n",
       "      <th>1</th>\n",
       "      <td>Redmi Note 12 8 GB RAM + 128GB ROM PTA Approve...</td>\n",
       "      <td>Rs. 64,999</td>\n",
       "      <td>4.7</td>\n",
       "      <td>Standard Delivery</td>\n",
       "      <td>92</td>\n",
       "      <td>100</td>\n",
       "    </tr>\n",
       "    <tr>\n",
       "      <th>2</th>\n",
       "      <td>Infinix Note 30 Pro 8-256 GB PTA Approved With...</td>\n",
       "      <td>Rs. 64,499</td>\n",
       "      <td>4.7</td>\n",
       "      <td>Free Delivery</td>\n",
       "      <td>New Seller</td>\n",
       "      <td>Not enough data</td>\n",
       "    </tr>\n",
       "    <tr>\n",
       "      <th>3</th>\n",
       "      <td>Realme Narzo 50A Prime (4GB-128GB) PTA Approve...</td>\n",
       "      <td>Rs. 32,999</td>\n",
       "      <td>4.1</td>\n",
       "      <td>Free Delivery</td>\n",
       "      <td>New Seller</td>\n",
       "      <td>Not enough data</td>\n",
       "    </tr>\n",
       "    <tr>\n",
       "      <th>4</th>\n",
       "      <td>Like New Phones - Used Apple iPhone X - Silver...</td>\n",
       "      <td>Rs. 97,999</td>\n",
       "      <td>5.0</td>\n",
       "      <td>Standard Delivery</td>\n",
       "      <td>92</td>\n",
       "      <td>100</td>\n",
       "    </tr>\n",
       "    <tr>\n",
       "      <th>...</th>\n",
       "      <td>...</td>\n",
       "      <td>...</td>\n",
       "      <td>...</td>\n",
       "      <td>...</td>\n",
       "      <td>...</td>\n",
       "      <td>...</td>\n",
       "    </tr>\n",
       "    <tr>\n",
       "      <th>195</th>\n",
       "      <td>Xiaomi Redmi 12 RAM 8 GB ROM 128 GB Front Came...</td>\n",
       "      <td>Rs. 45,000</td>\n",
       "      <td>5.0</td>\n",
       "      <td>Free Delivery</td>\n",
       "      <td>95</td>\n",
       "      <td>92</td>\n",
       "    </tr>\n",
       "    <tr>\n",
       "      <th>196</th>\n",
       "      <td>Samsung Galaxy 34 5G - 8GB - 256GB - Official ...</td>\n",
       "      <td>Rs. 114,999</td>\n",
       "      <td>5.0</td>\n",
       "      <td>Standard Delivery</td>\n",
       "      <td>93</td>\n",
       "      <td>77</td>\n",
       "    </tr>\n",
       "    <tr>\n",
       "      <th>197</th>\n",
       "      <td>Samsung A14 - 6GB RAM - 128GB ROM - 5000mAh Ba...</td>\n",
       "      <td>Rs. 56,499</td>\n",
       "      <td>5.0</td>\n",
       "      <td>Free Delivery</td>\n",
       "      <td>89</td>\n",
       "      <td>92</td>\n",
       "    </tr>\n",
       "    <tr>\n",
       "      <th>198</th>\n",
       "      <td>Realme C51 RAM 4GB ROM 128 GB Front Camera 5 M...</td>\n",
       "      <td>Rs. 39,999</td>\n",
       "      <td>NaN</td>\n",
       "      <td>Standard Delivery</td>\n",
       "      <td>95</td>\n",
       "      <td>91</td>\n",
       "    </tr>\n",
       "    <tr>\n",
       "      <th>199</th>\n",
       "      <td>Samsung Galaxy A54 RAM 8 GB ROM 256 GB Front C...</td>\n",
       "      <td>Rs. 180,000</td>\n",
       "      <td>5.0</td>\n",
       "      <td>Standard Delivery</td>\n",
       "      <td>95</td>\n",
       "      <td>91</td>\n",
       "    </tr>\n",
       "  </tbody>\n",
       "</table>\n",
       "<p>200 rows × 6 columns</p>\n",
       "</div>"
      ],
      "text/plain": [
       "                                         Product Title   Price (Rs)  \\\n",
       "0    Like New Phones - Used Apple iPhone X - Silver...  Rs. 106,999   \n",
       "1    Redmi Note 12 8 GB RAM + 128GB ROM PTA Approve...   Rs. 64,999   \n",
       "2    Infinix Note 30 Pro 8-256 GB PTA Approved With...   Rs. 64,499   \n",
       "3    Realme Narzo 50A Prime (4GB-128GB) PTA Approve...   Rs. 32,999   \n",
       "4    Like New Phones - Used Apple iPhone X - Silver...   Rs. 97,999   \n",
       "..                                                 ...          ...   \n",
       "195  Xiaomi Redmi 12 RAM 8 GB ROM 128 GB Front Came...   Rs. 45,000   \n",
       "196  Samsung Galaxy 34 5G - 8GB - 256GB - Official ...  Rs. 114,999   \n",
       "197  Samsung A14 - 6GB RAM - 128GB ROM - 5000mAh Ba...   Rs. 56,499   \n",
       "198  Realme C51 RAM 4GB ROM 128 GB Front Camera 5 M...   Rs. 39,999   \n",
       "199  Samsung Galaxy A54 RAM 8 GB ROM 256 GB Front C...  Rs. 180,000   \n",
       "\n",
       "    Product Rating           Shipping Seller Rating Ship on Time Score  \n",
       "0              5.0  Standard Delivery            92                100  \n",
       "1              4.7  Standard Delivery            92                100  \n",
       "2              4.7      Free Delivery    New Seller    Not enough data  \n",
       "3              4.1      Free Delivery    New Seller    Not enough data  \n",
       "4              5.0  Standard Delivery            92                100  \n",
       "..             ...                ...           ...                ...  \n",
       "195            5.0      Free Delivery            95                 92  \n",
       "196            5.0  Standard Delivery            93                 77  \n",
       "197            5.0      Free Delivery            89                 92  \n",
       "198            NaN  Standard Delivery            95                 91  \n",
       "199            5.0  Standard Delivery            95                 91  \n",
       "\n",
       "[200 rows x 6 columns]"
      ]
     },
     "execution_count": 31,
     "metadata": {},
     "output_type": "execute_result"
    }
   ],
   "source": [
    "df = pd.DataFrame(data)\n",
    "\n",
    "df"
   ]
  },
  {
   "cell_type": "code",
   "execution_count": 32,
   "id": "3d38b06f-1a8b-44bd-b175-870f345679fc",
   "metadata": {},
   "outputs": [
    {
     "name": "stdout",
     "output_type": "stream",
     "text": [
      "DataFrame successfully saved to imdb.xlsx\n"
     ]
    }
   ],
   "source": [
    "df.to_csv('daraz.csv', index=False)\n",
    "\n",
    "print(\"DataFrame successfully saved to daraz.csv\")\n",
    "ds = df"
   ]
  },
  {
   "cell_type": "code",
   "execution_count": null,
   "id": "fe3d1061-ca05-465a-b431-c3c32f40add1",
   "metadata": {},
   "outputs": [],
   "source": []
  },
  {
   "cell_type": "code",
   "execution_count": null,
   "id": "095aa907-1648-408c-bc1a-2ffc4637d7af",
   "metadata": {},
   "outputs": [],
   "source": []
  },
  {
   "cell_type": "code",
   "execution_count": null,
   "id": "a88c67a1-db1b-41c7-89d7-d618bb91caa5",
   "metadata": {},
   "outputs": [],
   "source": []
  }
 ],
 "metadata": {
  "kernelspec": {
   "display_name": "Python 3 (ipykernel)",
   "language": "python",
   "name": "python3"
  },
  "language_info": {
   "codemirror_mode": {
    "name": "ipython",
    "version": 3
   },
   "file_extension": ".py",
   "mimetype": "text/x-python",
   "name": "python",
   "nbconvert_exporter": "python",
   "pygments_lexer": "ipython3",
   "version": "3.11.4"
  }
 },
 "nbformat": 4,
 "nbformat_minor": 5
}
